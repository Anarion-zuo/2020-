{
 "cells": [
  {
   "cell_type": "code",
   "execution_count": 1,
   "metadata": {},
   "outputs": [],
   "source": [
    "import numpy as np\n",
    "import matplotlib.pyplot as plt"
   ]
  },
  {
   "cell_type": "code",
   "execution_count": 2,
   "metadata": {
    "pycharm": {
     "name": "#%%\n"
    }
   },
   "outputs": [
    {
     "ename": "TypeError",
     "evalue": "'list' object cannot be interpreted as an integer",
     "output_type": "error",
     "traceback": [
      "\u001b[0;31m---------------------------------------------------------------------------\u001b[0m",
      "\u001b[0;31mTypeError\u001b[0m                                 Traceback (most recent call last)",
      "\u001b[0;32m<ipython-input-2-649412325c83>\u001b[0m in \u001b[0;36m<module>\u001b[0;34m\u001b[0m\n\u001b[1;32m      5\u001b[0m         \u001b[0;34m[\u001b[0m\u001b[0;36m0\u001b[0m\u001b[0;34m,\u001b[0m \u001b[0;36m1\u001b[0m\u001b[0;34m,\u001b[0m \u001b[0;36m1\u001b[0m \u001b[0;34m/\u001b[0m \u001b[0mnp\u001b[0m\u001b[0;34m.\u001b[0m\u001b[0msqrt\u001b[0m\u001b[0;34m(\u001b[0m\u001b[0;36m2\u001b[0m\u001b[0;34m)\u001b[0m\u001b[0;34m,\u001b[0m \u001b[0;36m0\u001b[0m\u001b[0;34m]\u001b[0m\u001b[0;34m,\u001b[0m\u001b[0;34m\u001b[0m\u001b[0;34m\u001b[0m\u001b[0m\n\u001b[1;32m      6\u001b[0m         \u001b[0;34m[\u001b[0m\u001b[0;36m1\u001b[0m\u001b[0;34m,\u001b[0m \u001b[0;36m0\u001b[0m\u001b[0;34m,\u001b[0m \u001b[0;36m1\u001b[0m \u001b[0;34m/\u001b[0m \u001b[0mnp\u001b[0m\u001b[0;34m.\u001b[0m\u001b[0msqrt\u001b[0m\u001b[0;34m(\u001b[0m\u001b[0;36m2\u001b[0m\u001b[0;34m)\u001b[0m\u001b[0;34m,\u001b[0m \u001b[0;36m0\u001b[0m\u001b[0;34m]\u001b[0m\u001b[0;34m,\u001b[0m\u001b[0;34m\u001b[0m\u001b[0;34m\u001b[0m\u001b[0m\n\u001b[0;32m----> 7\u001b[0;31m         \u001b[0;34m[\u001b[0m\u001b[0;36m1\u001b[0m\u001b[0;34m,\u001b[0m \u001b[0;36m1\u001b[0m\u001b[0;34m,\u001b[0m \u001b[0;36m1\u001b[0m \u001b[0;34m/\u001b[0m \u001b[0mnp\u001b[0m\u001b[0;34m.\u001b[0m\u001b[0msqrt\u001b[0m\u001b[0;34m(\u001b[0m\u001b[0;36m2\u001b[0m\u001b[0;34m)\u001b[0m\u001b[0;34m,\u001b[0m \u001b[0;36m0\u001b[0m\u001b[0;34m]\u001b[0m\u001b[0;34m,\u001b[0m\u001b[0;34m\u001b[0m\u001b[0;34m\u001b[0m\u001b[0m\n\u001b[0m\u001b[1;32m      8\u001b[0m     ]\n\u001b[1;32m      9\u001b[0m )\n",
      "\u001b[0;31mTypeError\u001b[0m: 'list' object cannot be interpreted as an integer"
     ]
    }
   ],
   "source": [
    "# xi, yi, ti, si\n",
    "sataliteData = np.array(\n",
    "    [\n",
    "        [0, 0, 1 / np.sqrt(2), 0],\n",
    "        [0, 1, 1 / np.sqrt(2), 0],\n",
    "        [1, 0, 1 / np.sqrt(2), 0],\n",
    "        [1, 1, 1 / np.sqrt(2), 0],\n",
    "    ]\n",
    ")"
   ]
  },
  {
   "cell_type": "code",
   "execution_count": null,
   "metadata": {
    "pycharm": {
     "name": "#%%\n"
    }
   },
   "outputs": [],
   "source": [
    "def compute_e(xp, yp, bp, cp, xip, yip, tip, sip):\n",
    "    return (xp - xip) ** 2 + (yp - yip) ** 2 - (cp ** 2) * (tip - bp - sip) ** 2\n",
    "\n",
    "def compute_L(xp, yp, bp, cp, xip, yip, tip, sip):\n",
    "    return compute_e(xp, yp, bp, cp, xip, yip, tip, sip) ** 2\n",
    "\n",
    "def grad_x(x, xp, yp, bp, cp, xip, yip, tip, sip):\n",
    "    return 4 * compute_e(xp, yp, bp, cp, xip, yip, tip, sip) * (x - xp)\n",
    "\n",
    "def grad_y(y, xp, yp, bp, cp, xip, yip, tip, sip):\n",
    "    return 4 * compute_e(xp, yp, bp, cp, xip, yip, tip, sip) * (y - yp)\n",
    "\n",
    "def grad_b(b, xp, yp, bp, cp, xip, yip, tip, sip):\n",
    "    return 4 * compute_e(xp, yp, bp, cp, xip, yip, tip, sip) * (cp ** 2) * (tip - sip - b)\n"
   ]
  },
  {
   "cell_type": "code",
   "execution_count": null,
   "metadata": {
    "pycharm": {
     "name": "#%%\n"
    }
   },
   "outputs": [],
   "source": [
    "x = 0\n",
    "y = 0\n",
    "b = 0\n",
    "\n",
    "c = 1\n",
    "\n",
    "iterCount = 0\n",
    "for i in range (1000):\n",
    "    delta_b = 0\n",
    "    delta_x = 0\n",
    "    delta_y = 0\n",
    "    for index in range(4):\n",
    "        delta_b += grad_b(b, x, y, b, c, sataliteData[index][3])\n",
    "        delta_x += grad_x(x, x, y, b, c, sataliteData[index][3])\n",
    "        delta_y += grad_y(y, x, y, b, c, sataliteData[index][3])\n",
    "    delta_b /= 4\n",
    "    delta_b *= 1e-5\n",
    "    delta_x /= 4\n",
    "    delta_x *= 1e-5\n",
    "    delta_y /= 4\n",
    "    delta_y *= 1e-5\n",
    "    if np.abs(delta_x) < 1e-8 and np.abs(delta_y) < 1e-8 and np.abs(delta_b) < 1e-8:\n",
    "        break\n",
    "    x -= delta_x\n",
    "    y -= delta_y\n",
    "    b -= delta_b\n",
    "\n",
    "print(x, y, b)\n"
   ]
  }
 ],
 "metadata": {
  "kernelspec": {
   "display_name": "PyCharm (test)",
   "language": "python",
   "name": "pycharm-16f1170e"
  },
  "language_info": {
   "codemirror_mode": {
    "name": "ipython",
    "version": 3
   },
   "file_extension": ".py",
   "mimetype": "text/x-python",
   "name": "python",
   "nbconvert_exporter": "python",
   "pygments_lexer": "ipython3",
   "version": "3.7.6"
  }
 },
 "nbformat": 4,
 "nbformat_minor": 1
}
