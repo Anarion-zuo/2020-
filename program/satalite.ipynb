{
 "cells": [
  {
   "cell_type": "code",
   "execution_count": 1,
   "metadata": {},
   "outputs": [],
   "source": [
    "import numpy as np\n",
    "import matplotlib.pyplot as plt"
   ]
  },
  {
   "cell_type": "code",
   "execution_count": 2,
   "metadata": {
    "pycharm": {
     "name": "#%%\n"
    }
   },
   "outputs": [],
   "source": [
    "# xi, yi, ti, si\n",
    "sataliteData = np.array(\n",
    "    [\n",
    "        [0, 0, 1 / np.sqrt(2), 0],\n",
    "        [0, 1, 1 / np.sqrt(2), 0],\n",
    "        [1, 0, 1 / np.sqrt(2), 0],\n",
    "        [1, 1, 1 / np.sqrt(2), 0],\n",
    "    ]\n",
    ")"
   ]
  },
  {
   "cell_type": "code",
   "execution_count": 3,
   "metadata": {
    "pycharm": {
     "name": "#%%\n"
    }
   },
   "outputs": [],
   "source": [
    "def compute_e(xp, yp, bp, cp, xip, yip, tip, sip):\n",
    "    return (xp - xip) ** 2 + (yp - yip) ** 2 - (cp ** 2) * (tip - bp - sip) ** 2\n",
    "\n",
    "def compute_L(xp, yp, bp, cp, xip, yip, tip, sip):\n",
    "    return compute_e(xp, yp, bp, cp, xip, yip, tip, sip) ** 2\n",
    "\n",
    "def grad_x(xp, yp, bp, cp, xip, yip, tip, sip):\n",
    "    return 4 * compute_e(xp, yp, bp, cp, xip, yip, tip, sip) * (xp - xip)\n",
    "\n",
    "def grad_y(xp, yp, bp, cp, xip, yip, tip, sip):\n",
    "    return 4 * compute_e(xp, yp, bp, cp, xip, yip, tip, sip) * (yp - yip)\n",
    "\n",
    "def grad_b(xp, yp, bp, cp, xip, yip, tip, sip):\n",
    "    return 4 * compute_e(xp, yp, bp, cp, xip, yip, tip, sip) * (cp ** 2) * (tip - sip - bp)\n",
    "\n",
    "# x = .3\n",
    "# y = .4\n",
    "# b = .5\n",
    "# c = 1\n",
    "# bb = grad_x(x, y, b, c, sataliteData[0][0], sataliteData[0][1], sataliteData[0][2], sataliteData[0][3])\n"
   ]
  },
  {
   "cell_type": "code",
   "execution_count": 3,
   "outputs": [],
   "source": [],
   "metadata": {
    "collapsed": false,
    "pycharm": {
     "name": "#%%\n"
    }
   }
  },
  {
   "cell_type": "code",
   "execution_count": 4,
   "metadata": {
    "pycharm": {
     "name": "#%%\n"
    }
   },
   "outputs": [
    {
     "name": "stdout",
     "output_type": "stream",
     "text": [
      "0.5000000013346843 0.4999999965298208 -4.1328239614531825e-16\n"
     ]
    },
    {
     "data": {
      "text/plain": "<Figure size 432x288 with 1 Axes>",
      "image/png": "[encoded data removed]"
     },
     "metadata": {
      "needs_background": "light"
     },
     "output_type": "display_data"
    }
   ],
   "source": [
    "x = 3\n",
    "y = -6\n",
    "b = .5\n",
    "\n",
    "c = 1\n",
    "rate = 1e-3\n",
    "\n",
    "x_time = []\n",
    "y_time = []\n",
    "\n",
    "\n",
    "iterCount = 0\n",
    "for i in range (10000):\n",
    "    delta_b = 0\n",
    "    delta_x = 0\n",
    "    delta_y = 0\n",
    "    for index in range(4):\n",
    "        delta_b += grad_b(x, y, b, c, sataliteData[index][0], sataliteData[index][1], sataliteData[index][2], sataliteData[index][3])\n",
    "        delta_x += grad_x(x, y, b, c, sataliteData[index][0], sataliteData[index][1], sataliteData[index][2], sataliteData[index][3])\n",
    "        delta_y += grad_y(x, y, b, c, sataliteData[index][0], sataliteData[index][1], sataliteData[index][2], sataliteData[index][3])\n",
    "    delta_b /= 4\n",
    "    delta_b *= rate\n",
    "    delta_x /= 4\n",
    "    delta_x *= rate\n",
    "    delta_y /= 4\n",
    "    delta_y *= rate\n",
    "    if np.abs(delta_x) < 1e-15 and np.abs(delta_y) < 1e-15 and np.abs(delta_b) < 1e-15:\n",
    "        print(\"delta x:\", delta_x, \"delta y:\", delta_y, \"delta b:\", delta_b, \"iterate:\", i)\n",
    "        break\n",
    "    x -= delta_x\n",
    "    y -= delta_y\n",
    "    b -= delta_b\n",
    "\n",
    "    x_time.append(x)\n",
    "    y_time.append(y)\n",
    "\n",
    "print(x, y, b)\n",
    "plt.plot(x_time, y_time)\n",
    "plt.xlabel('x position')\n",
    "plt.ylabel('y position')\n",
    "plt.show()"
   ]
  },
  {
   "cell_type": "code",
   "execution_count": 10,
   "outputs": [
    {
     "name": "stdout",
     "output_type": "stream",
     "text": [
      "0.5000000013346843 0.4999999965298208 -4.1328239614531825e-16\n",
      "0.49999998969716763 0.5000000065563481 -3.65642180337189e-15\n",
      "0.5000000106583483 0.5000000120794614 -6.222243577849255e-15\n"
     ]
    },
    {
     "data": {
      "text/plain": "<Figure size 432x288 with 1 Axes>",
      "image/png": "[encoded data removed]"
     },
     "metadata": {
      "needs_background": "light"
     },
     "output_type": "display_data"
    }
   ],
   "source": [
    "xs = [3, -5, 8]\n",
    "ys = [-6, 4, 9]\n",
    "b = .5\n",
    "\n",
    "c = 1\n",
    "rate = 1e-3\n",
    "\n",
    "for xindex in range(3):\n",
    "    x_time = []\n",
    "    y_time = []\n",
    "\n",
    "    x = xs[xindex]\n",
    "    y = ys[xindex]\n",
    "\n",
    "    iterCount = 0\n",
    "    for i in range (10000):\n",
    "        delta_b = 0\n",
    "        delta_x = 0\n",
    "        delta_y = 0\n",
    "        for index in range(4):\n",
    "            delta_b += grad_b(x, y, b, c, sataliteData[index][0], sataliteData[index][1], sataliteData[index][2], sataliteData[index][3])\n",
    "            delta_x += grad_x(x, y, b, c, sataliteData[index][0], sataliteData[index][1], sataliteData[index][2], sataliteData[index][3])\n",
    "            delta_y += grad_y(x, y, b, c, sataliteData[index][0], sataliteData[index][1], sataliteData[index][2], sataliteData[index][3])\n",
    "        delta_b /= 4\n",
    "        delta_b *= rate\n",
    "        delta_x /= 4\n",
    "        delta_x *= rate\n",
    "        delta_y /= 4\n",
    "        delta_y *= rate\n",
    "        if np.abs(delta_x) < 1e-15 and np.abs(delta_y) < 1e-15 and np.abs(delta_b) < 1e-15:\n",
    "            print(\"delta x:\", delta_x, \"delta y:\", delta_y, \"delta b:\", delta_b, \"iterate:\", i)\n",
    "            break\n",
    "        x -= delta_x\n",
    "        y -= delta_y\n",
    "        b -= delta_b\n",
    "\n",
    "        x_time.append(x)\n",
    "        y_time.append(y)\n",
    "\n",
    "    print(x, y, b)\n",
    "    label = 'init point: (' + str(xs[xindex]) + ', ' + str(ys[xindex] )+ ')'\n",
    "    plt.plot(x_time, y_time, label=label)\n",
    "plt.xlabel('x position')\n",
    "plt.ylabel('y position')\n",
    "plt.legend(loc='lower left')\n",
    "plt.show()\n"
   ],
   "metadata": {
    "collapsed": false,
    "pycharm": {
     "name": "#%%\n"
    }
   }
  }
 ],
 "metadata": {
  "kernelspec": {
   "display_name": "PyCharm (test)",
   "language": "python",
   "name": "pycharm-16f1170e"
  },
  "language_info": {
   "codemirror_mode": {
    "name": "ipython",
    "version": 3
   },
   "file_extension": ".py",
   "mimetype": "text/x-python",
   "name": "python",
   "nbconvert_exporter": "python",
   "pygments_lexer": "ipython3",
   "version": "3.7.6"
  }
 },
 "nbformat": 4,
 "nbformat_minor": 1
}